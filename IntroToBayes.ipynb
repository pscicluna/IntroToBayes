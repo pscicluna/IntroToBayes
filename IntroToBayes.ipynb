{
  "nbformat": 4,
  "nbformat_minor": 0,
  "metadata": {
    "colab": {
      "provenance": [],
      "include_colab_link": true
    },
    "kernelspec": {
      "name": "python3",
      "display_name": "Python 3"
    },
    "language_info": {
      "name": "python"
    }
  },
  "cells": [
    {
      "cell_type": "markdown",
      "metadata": {
        "id": "view-in-github",
        "colab_type": "text"
      },
      "source": [
        "<a href=\"https://colab.research.google.com/github/pscicluna/IntroToBayes/blob/main/IntroToBayes.ipynb\" target=\"_parent\"><img src=\"https://colab.research.google.com/assets/colab-badge.svg\" alt=\"Open In Colab\"/></a>"
      ]
    },
    {
      "cell_type": "markdown",
      "source": [
        "# Introduction to Bayes' Theorem\n",
        "## Peter Scicluna, Teaching presentation\n",
        "\n",
        "### What this presentation will cover\n",
        "In this presentation, we will briefly cover:\n",
        "\n",
        "1. How the simple answer can lead to the wrong conclusion\n",
        "2. How Bayes' theorem can help you out\n",
        "\n",
        "And then summarise where we have gotten to.\n",
        "We will use a classical (even cliche) example, but it's a classic because it works!\n",
        "\n",
        "If this were a full-length lesson, it would also extend to:\n",
        "\n",
        "3. Bayesian updating\n",
        "4. Choosing priors and evaluating their impact\n",
        "\n",
        "At the end of the notebook there are a few example problems for you to consider in your own time.\n",
        "\n",
        "\n",
        "### Prior knowledge\n",
        "Based on the outlines for the *Linear Modelling* and *Fundamentals of Data Science* course,  I'm assuming the following prior knowledge:\n",
        "\n",
        "* Basic probability theory\n",
        "* Frequentist statistics\n",
        "* basic Python\n",
        "* linear regression\n",
        "\n",
        "If anything is unclear, please let me know! I will attempt to adjust on the fly, but if that's impossible I am happy to discuss further outside of this session.\n",
        "\n",
        "If you would like to follow along, you can find this notebook at: https://github.com/pscicluna/IntroToBayes/IntroToBayes.ipynb\n"
      ],
      "metadata": {
        "id": "av6gjcY2bnVv"
      }
    },
    {
      "cell_type": "markdown",
      "source": [
        "### Disease incidence\n",
        "\n",
        "Let's say I take one of these tests:\n",
        "\n",
        "![COVID-19 Lateral Flow Test with weak test line visible](https://npr.brightspotcdn.com/dims4/default/208129e/2147483647/strip/true/crop/640x360+0+0/resize/880x495!/quality/90/?url=http%3A%2F%2Fnpr-brightspot.s3.amazonaws.com%2F8e%2F4e%2F67c45fca4b78a4934c418ae88198%2Fwoster-covid-test.jpg)\n",
        "\n",
        "\n",
        "\n",
        "If I test positive, what is the probability that I am really infected?\n",
        "\n",
        "Assume the false-positive probability $P\\left(+|\\tilde{I}\\right)$ = 0.05 and the false-negative probability is 0.\n",
        "\n",
        "To answer the poll, scan this QR Code:\n",
        "\n",
        "![Poll QR code](data:image/png;base64,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)\n",
        "\n",
        "Or follow this link:\n",
        "https://app.sli.do/event/8X9cWAzadzyzJUv4VB6gM2"
      ],
      "metadata": {
        "id": "dA6z8Aa-dcQE"
      }
    },
    {
      "cell_type": "markdown",
      "source": [
        "Yes, this is something of a trick question! Unfortunately, we need more information to come up with a concrete answer to this question. Why is that?"
      ],
      "metadata": {
        "id": "ucpv5O3edn9B"
      }
    },
    {
      "cell_type": "markdown",
      "source": [
        "To get to the real answer, we need to think about what happens if we test a population of people, in which some fraction are really infected.\n",
        "\n",
        "If we test 100 people, with a real incidence (i.e. what fraction of the population is really infected) of 1%, how many positive results should we get?"
      ],
      "metadata": {
        "id": "3NnTsuKVkkNw"
      }
    },
    {
      "cell_type": "markdown",
      "source": [
        "Well, why don't we do the maths?\n",
        "There are 4 possible outcomes:\n",
        "\n",
        "| Status($→$)/result(↓)  |  Infected ($I$) | Not infected ($\\tilde{I}$) |\n",
        "|---|---|---|\n",
        "| Positive ($+$)  |  true positive ($+|I$) | false positive ($+|\\tilde{I}$) |\n",
        "| Negative ($-$ or $\\tilde{+}$)  |  false negative ($\\tilde{+}|I$) | true negative ($\\tilde{+}|\\tilde{I}$) |\n",
        "\n",
        "First we can calculate the expected number of *true* positives, which assuming the test has a false-negative probability $P\\left(\\tilde{+}|I\\right)= 0$ as above, is incidence $\\times$ sample size. This should be 1, since we have a sample of 100 and 1% incidence:\n",
        "\n"
      ],
      "metadata": {
        "id": "fNI4yq6hl-Tq"
      }
    },
    {
      "cell_type": "code",
      "source": [
        "sample=100\n",
        "incidence = 0.01\n",
        "n_true_pos = sample * incidence\n",
        "print(n_true_pos)"
      ],
      "metadata": {
        "colab": {
          "base_uri": "https://localhost:8080/"
        },
        "id": "9CWc2_8wD1sA",
        "outputId": "51c6e32b-89db-42e5-ed07-be8158f8bd87"
      },
      "execution_count": 2,
      "outputs": [
        {
          "output_type": "stream",
          "name": "stdout",
          "text": [
            "1.0\n"
          ]
        }
      ]
    },
    {
      "cell_type": "markdown",
      "source": [
        "Next, we can consider the expected number of *false* positives, which is false-positive probability $\\times$ sample size (but a positive cannot be both true and false, so true positives must be excluded)."
      ],
      "metadata": {
        "id": "2v6H9OduEDtX"
      }
    },
    {
      "cell_type": "code",
      "source": [
        "false_pos_probability = 0.05\n",
        "n_false_pos = (sample - n_true_pos) * false_pos_probability\n",
        "print(n_false_pos)"
      ],
      "metadata": {
        "colab": {
          "base_uri": "https://localhost:8080/"
        },
        "id": "mQ1hGZwKG0Tq",
        "outputId": "35739a8f-5029-41de-cf65-0dc9da65d793"
      },
      "execution_count": 3,
      "outputs": [
        {
          "output_type": "stream",
          "name": "stdout",
          "text": [
            "4.95\n"
          ]
        }
      ]
    },
    {
      "cell_type": "markdown",
      "source": [
        "Now we can easily get the expected **total** number of positives by adding these up:"
      ],
      "metadata": {
        "id": "njohipDRD30e"
      }
    },
    {
      "cell_type": "code",
      "execution_count": 4,
      "metadata": {
        "colab": {
          "base_uri": "https://localhost:8080/"
        },
        "id": "bTrnXFU0be8n",
        "outputId": "70f4a155-3293-409f-b0cf-5d14f1ff9535"
      },
      "outputs": [
        {
          "output_type": "stream",
          "name": "stdout",
          "text": [
            "5.95\n"
          ]
        }
      ],
      "source": [
        "total_pos = n_true_pos + n_false_pos\n",
        "print(total_pos)"
      ]
    },
    {
      "cell_type": "markdown",
      "source": [
        "As you can see, in this scenario we should actually end up with six positive results, of which only one is real! What does this mean for our probability to be infected if we test positive? If we follow the definition of probability based on frequency, then we arrive at the probability of being infected being the ratio of the number of true positives to the total number of positive results:"
      ],
      "metadata": {
        "id": "DR_VdBunm0kQ"
      }
    },
    {
      "cell_type": "code",
      "source": [
        "prob_infected = n_true_pos / total_pos\n",
        "print(prob_infected)"
      ],
      "metadata": {
        "colab": {
          "base_uri": "https://localhost:8080/"
        },
        "id": "Ie3yJD8WnVU6",
        "outputId": "6592252b-8f58-4fa1-eec9-fbb8451290ea"
      },
      "execution_count": 5,
      "outputs": [
        {
          "output_type": "stream",
          "name": "stdout",
          "text": [
            "0.1680672268907563\n"
          ]
        }
      ]
    },
    {
      "cell_type": "markdown",
      "source": [
        "So, why isn't the answer 0.95?\n",
        "\n",
        "That's right, the number of false positives depends only on the size of the sample and the false-positive probability<a name=\"cite_ref-1\"></a>[<sup>[1]</sup>](#cite_note-1), but the number of true positives depends on the incidence!\n",
        "\n",
        "So how would our answer be different if the incidence was 50%?"
      ],
      "metadata": {
        "id": "RMIGjvU3nuhR"
      }
    },
    {
      "cell_type": "code",
      "source": [
        "incidence = 0.5\n",
        "n_true_pos = sample * incidence\n",
        "n_false_pos = (sample - n_true_pos) * false_pos_probability\n",
        "total_pos = n_true_pos + n_false_pos\n",
        "prob_infected = n_true_pos / total_pos\n",
        "print(prob_infected)"
      ],
      "metadata": {
        "colab": {
          "base_uri": "https://localhost:8080/"
        },
        "id": "MMAsVcavoUfM",
        "outputId": "a461b5f6-774b-43e7-c973-267084385460"
      },
      "execution_count": 6,
      "outputs": [
        {
          "output_type": "stream",
          "name": "stdout",
          "text": [
            "0.9523809523809523\n"
          ]
        }
      ]
    },
    {
      "cell_type": "markdown",
      "source": [
        "You can see this is much larger, and now roughly equal to the naive assumption of 0.95! If you're following along offline, try changing the incidence some more and see what happens!\n",
        "\n",
        "To see how it depends on the incidence, we can plot many values at once:"
      ],
      "metadata": {
        "id": "AlZZGSyKoe5w"
      }
    },
    {
      "cell_type": "code",
      "source": [
        "%matplotlib inline\n",
        "import numpy as np\n",
        "import matplotlib.pyplot as plt\n",
        "\n",
        "incidences = np.arange(101)/100\n",
        "\n",
        "n_true_pos = sample*incidences\n",
        "n_false_pos = (sample - n_true_pos) * false_pos_probability\n",
        "total_pos = n_true_pos + n_false_pos\n",
        "\n",
        "prob_infected = n_true_pos / total_pos\n",
        "plt.plot(incidences, prob_infected, '-')\n",
        "plt.axhline(0.95, linestyle=':', color='red')\n",
        "plt.xlabel('Incidence')\n",
        "plt.ylabel('Infection probability')\n",
        "plt.xlim([0, 1])\n",
        "plt.ylim([0, 1])"
      ],
      "metadata": {
        "colab": {
          "base_uri": "https://localhost:8080/",
          "height": 472
        },
        "id": "xfYJoEWZomuv",
        "outputId": "06b01f33-3a90-4967-e8ed-5f946e3e00fd"
      },
      "execution_count": 7,
      "outputs": [
        {
          "output_type": "execute_result",
          "data": {
            "text/plain": [
              "(0.0, 1.0)"
            ]
          },
          "metadata": {},
          "execution_count": 7
        },
        {
          "output_type": "display_data",
          "data": {
            "text/plain": [
              "<Figure size 640x480 with 1 Axes>"
            ],
            "image/png": "[encoded data removed]"
          },
          "metadata": {}
        }
      ]
    },
    {
      "cell_type": "markdown",
      "source": [
        "What is going on here? Well, it looks like the the probability increases with the incidence, and is only equal to 1 minus the false-positive probability when the incidence is 0.5. Why? To answer that, we will have to do a little bit of maths:\n",
        "\n",
        "The false-positive probability can be thought of as the probability of testing positive if you are not infected, $P\\left(+|\\tilde{I}\\right)$, and so the probability of testing positive if you are infected is $P\\left(+|I\\right) = 1 - P\\left(+|\\tilde{I}\\right)$. However, what we're trying to estimate is $P\\left(I|+\\right)$ instead!"
      ],
      "metadata": {
        "id": "cNkrWoaAqiqF"
      }
    },
    {
      "cell_type": "markdown",
      "source": [
        "### Rev. Thomas Bayes\n",
        "\n",
        "18th century Presbytarian minister, worked extensively on *conditional probability*.\n",
        "\n",
        "What did Bayes discover? Consider the intersection of two samples:"
      ],
      "metadata": {
        "id": "_Za2sF8ns8e6"
      }
    },
    {
      "cell_type": "code",
      "source": [
        "%matplotlib inline\n",
        "import matplotlib.pyplot as plt\n",
        "from matplotlib_venn import venn2\n",
        "\n",
        "# Use the venn2 function\n",
        "v = venn2(subsets = (10, 5, 2), set_labels = ('+', 'I'))\n",
        "plt.annotate('+ $\\cap$ I', xy=v.get_label_by_id('100').get_position() - np.array([-0.5, 0.05]), xytext=(-30,-110),\n",
        "             ha='center', textcoords='offset points', bbox=dict(boxstyle='round,pad=0.5', fc='gray', alpha=0.1),\n",
        "             arrowprops=dict(arrowstyle='->', connectionstyle='arc3,rad=0.5',color='gray'))\n",
        "plt.show()"
      ],
      "metadata": {
        "colab": {
          "base_uri": "https://localhost:8080/",
          "height": 394
        },
        "id": "W-CkErXOs4Bo",
        "outputId": "07da4f7e-5cc8-4082-fb23-29b42573b144"
      },
      "execution_count": 8,
      "outputs": [
        {
          "output_type": "display_data",
          "data": {
            "text/plain": [
              "<Figure size 640x480 with 1 Axes>"
            ],
            "image/png": "[encoded data removed]"
          },
          "metadata": {}
        }
      ]
    },
    {
      "cell_type": "markdown",
      "source": [
        "If we want to know the *joint probability* of A and B then we want the intersection of the two sets $P\\left(+, I\\right) = P\\left(x \\in + \\cap I\\right)$\n"
      ],
      "metadata": {
        "id": "cqqmJ2wduNaW"
      }
    },
    {
      "cell_type": "markdown",
      "source": [
        "If we translate this into probability notation we end up with:\n",
        "\\begin{align}\n",
        "P\\left(+, I\\right) &= P\\left(x \\in + \\cap I\\right) &&= P\\left(x \\in I \\cap +\\right)\\\\\n",
        " &=P\\left(x\\in +|x\\in I\\right)P\\left(x\\in I\\right) &&= P\\left(x\\in I|x\\in +\\right)P\\left(x\\in +\\right)\\\\\n",
        " &= P\\left(+|I\\right)P\\left(I\\right) &&= P\\left(I|+\\right)P\\left(+\\right)\n",
        "\\end{align}\n",
        "which is a suprisingly simple but important result. Also known as \"the chain rule of probability\", this allows us to easily transform between different conditional probabilities."
      ],
      "metadata": {
        "id": "3luhzUvkvaTP"
      }
    },
    {
      "cell_type": "markdown",
      "source": [
        "Obviously this doesn't care what sort of probabilities we're talking about, so we can easily generalise this to provide the canonical version of Bayes' now famous theorem:$$P(A|B)P(B) = P(B|A)P(A)$$"
      ],
      "metadata": {
        "id": "uGDGm-lG9P5b"
      }
    },
    {
      "cell_type": "markdown",
      "source": [
        "What does this mean for us? Well, we can now take this  and solve for $P\\left(I|+\\right)$!\n",
        "\n",
        "If we do that, what do we end up with?\n",
        "\n",
        "$$P\\left(I|+\\right) = \\frac{P\\left(+|I\\right)P\\left(I\\right)}{P\\left(+\\right)}$$\n",
        "\n",
        "Okay, but some of these terms need to be expanded to be useful.\n",
        "For example, the incidence can be thought of as the probability of a randomly chosen individual being positive $P\\left(I\\right)$, but we also need the probability of any positive result $P(+)$. Clearly, this is equal to the sum of the true and the false positives, so this is\n",
        "$$P(+) = P\\left(+|I\\right)P\\left(I\\right) + P\\left(+|\\tilde{I}\\right)P\\left(\\tilde{I}\\right)$$ which are all quantities we know!\n",
        "\n",
        "So we can turn all of this into code and see what the results are:"
      ],
      "metadata": {
        "id": "H3X7Kly9sKF0"
      }
    },
    {
      "cell_type": "code",
      "source": [
        "p_i = incidences\n",
        "p_pos_given_i = 1 - false_pos_probability\n",
        "p_pos = p_pos_given_i * p_i + false_pos_probability * (1 - incidences)\n",
        "p_i_given_pos = p_pos_given_i * p_i / p_pos"
      ],
      "metadata": {
        "id": "Y_zZQedax0zl"
      },
      "execution_count": 9,
      "outputs": []
    },
    {
      "cell_type": "markdown",
      "source": [
        "And we can overplot this on our previous results to show how they agree:"
      ],
      "metadata": {
        "id": "aBakmeFeyWM5"
      }
    },
    {
      "cell_type": "code",
      "source": [
        "%matplotlib inline\n",
        "plt.plot(incidences, prob_infected, '-')\n",
        "plt.axhline(0.95,linestyle=':', color='red')\n",
        "plt.plot(incidences, p_i_given_pos, '--', color='magenta')\n",
        "plt.xlabel('Incidence')\n",
        "plt.ylabel('Infection probability')\n",
        "plt.xlim([0, 1])\n",
        "plt.ylim([0, 1])"
      ],
      "metadata": {
        "colab": {
          "base_uri": "https://localhost:8080/",
          "height": 472
        },
        "id": "sPEykD0lyaHq",
        "outputId": "a3bcc592-23fa-4f75-b5aa-580a6dda7d63"
      },
      "execution_count": 10,
      "outputs": [
        {
          "output_type": "execute_result",
          "data": {
            "text/plain": [
              "(0.0, 1.0)"
            ]
          },
          "metadata": {},
          "execution_count": 10
        },
        {
          "output_type": "display_data",
          "data": {
            "text/plain": [
              "<Figure size 640x480 with 1 Axes>"
            ],
            "image/png": "[encoded data removed]"
          },
          "metadata": {}
        }
      ]
    },
    {
      "cell_type": "markdown",
      "source": [
        "As you can see, this formula perfectly follows the empirical relationship we computed above! So essentially, just by *thinking hard* about the problem, we can come to an effective solution.\n",
        "\n",
        "**Discussion point:** the plot shows I can essentially choose my result by changing my assumption about the incidence. How might someone get around this?"
      ],
      "metadata": {
        "id": "gbSB3p-7wKo8"
      }
    },
    {
      "cell_type": "markdown",
      "source": [
        "### Why Bayes?\n",
        "**Why does this matter**, you might ask?\n",
        "\n",
        "Well, following this example, it matters because you don't want to treat someone unnecessarily, because any treatment can cause side effects. So, if you test someone for a rare disease, and the incidence is below the false-positive probability, you might want to confirm it some other way before you begin treating them.\n",
        "\n",
        "More generally, when you're interpreting your data, you want to give less credence to cases that seem less likely; essentially, Bayes' theorem gives you a mathematical tool for encoding the truism **_\"extraordinary claims require extraordinary evidence\"_** and weighting your results accordingly.\n",
        "\n",
        "In the *Linear Modelling* course and the description of linear regression, you might have encountered regression as the problem of finding the *maximum likelihood* parameters for a dataset given a model.\n",
        "Therefore, linear regression solves the question of *how probable is my dataset under the assumption of some model/parameters* i.e.\n",
        "$$P\\left(D|M\\right).$$\n",
        "\n",
        "But when you're trying to interpret your dataset to understand what the best parameters are, you really want to know the probability of your model given some data or\n",
        "$$P\\left(M|D\\right),$$\n",
        "which is commonly referred to as the *posterior probability* or just **posterior**.\n",
        "\n",
        "So, using Bayes' theorem, can we go from one to the other? What is missing:\n",
        "\n",
        "$$P\\left(M|D\\right) = \\frac{P\\left(D|M\\right)}{}.$$"
      ],
      "metadata": {
        "id": "11REzl-y0yeg"
      }
    },
    {
      "cell_type": "markdown",
      "source": [
        "You will see that we have introduced a few new factors here that we need to define. You're already familiar with the likelihood $P\\left(D|M\\right)$ and we introduced the posterior $P\\left(M|D\\right)$ already. The two other terms in the most interesting: $P(M)$ is referred to as the *prior probability*, and it encodes any existing information we have about the distribution of models or parameters, while $P(D)$, called the *evidence*, is key to more advanced analysis such as *model selection*, but is otherwise often treated simply as a normalisation factor."
      ],
      "metadata": {
        "id": "OeBiRQO1m51S"
      }
    },
    {
      "cell_type": "markdown",
      "source": [
        "### Why Bayes?\n",
        "\n",
        "So why does this matter for understanding a model, or *doing science*?\n",
        "\n",
        "The prior, although a point of contention for frequentists, is key. The criticism is that, by changing your prior you can essentially produce any result you want. However, a more productive way of looking at it is that **your assumption is now completely explicit and its impact can be easily tested**, while similar assumptionts may be implicitly baked in and hard to test in a frequentist analysis."
      ],
      "metadata": {
        "id": "U9a11kx0rEry"
      }
    },
    {
      "cell_type": "markdown",
      "source": [
        "Another advantage of this approach is that now every part of our inference is explicitly a distribution. This means we can propagate uncertainty easily, which is important - a value without a meaningful uncertainty doesn't let us test a theory, and doesn't tell us how confident we should be if we're making predictions!"
      ],
      "metadata": {
        "id": "gujDqAsTzfK-"
      }
    },
    {
      "cell_type": "markdown",
      "source": [
        "### Bayesian Updating\n",
        "\n",
        "What happens if I take two tests, and both are positive? What is the probability that I'm really infected then? This section of the class would expand on the topic of repeated measurements. We will consider both repeating measurements of the test above, detour through the Monty Hall problem, and then come back to testing above and explore it in practice."
      ],
      "metadata": {
        "id": "pnQDOE3ZwK_U"
      }
    },
    {
      "cell_type": "markdown",
      "source": [
        "### Choosing priors\n",
        "The final section of the class would consider the tricky question of choosing priors, starting from the example of Eddington bias. It would then introduce the concepts of informative vs uninformative priors, Jeffrey's priors, and finally *conjugate* priors. Then it would explore the idea of prior sensitivity tests in linear regression and how important this is to ensuring an analysis is robust."
      ],
      "metadata": {
        "id": "MADSbzw9orLp"
      }
    },
    {
      "cell_type": "markdown",
      "source": [
        "### Sampling distributions\n",
        "\n",
        "One of the great things that Bayes' theorem has enabled is the widespread application of algorithms such as Markov Chain Monte Carlo to sample posterior distributions. By providing an easy way to combine distributions we can easily produce samples even from dsitributions that we can't directly evaluate. This means even complex physical models can be computed and we can figure out which models the data support! You will no-doubt encounter this in a later lecture, but efficient sampling is a major field of research that is partcularly relevant to my own research."
      ],
      "metadata": {
        "id": "wYUNhddnTIwz"
      }
    },
    {
      "cell_type": "markdown",
      "source": [
        "### Problem set:\n",
        "\n",
        "The rest of this notebook is a set of problems for you to solve yourselves in class. They cover a few different applications of what we covered here, and some extensions to make you think a bit more as well. These problems will form part of your assessment.\n"
      ],
      "metadata": {
        "id": "HmPhQxSiwUzb"
      }
    },
    {
      "cell_type": "markdown",
      "source": [
        "#### Problem 1: Changing the false-positive probability\n",
        "\n",
        "Revisit the infection positivity example above, and explore how changing the false-positive probability changes the outcome. Make a version of the figures above that shows how the outcome changes as your assumptions about the test change."
      ],
      "metadata": {
        "id": "B7pHw8viDdZr"
      }
    },
    {
      "cell_type": "code",
      "source": [
        "# Compute the answer to the problem here!\n",
        "\n",
        "# Don't forget to make a new plot as well!\n",
        "\n",
        "# Use multiple code & Markdown cells if you need to."
      ],
      "metadata": {
        "id": "UN__c3B9DmF5"
      },
      "execution_count": 11,
      "outputs": []
    },
    {
      "cell_type": "markdown",
      "source": [
        "#### Problem 2: Non-zero false-negative probability\n",
        "\n",
        "Above, we assumed that the false-negative probability is 0. Derive the equation for $P\\left(I|+\\right)$ if this is no longer true. Then compute the solution with a false-negative probability of 0.05 using python below."
      ],
      "metadata": {
        "id": "sZfdjuHQDleB"
      }
    },
    {
      "cell_type": "code",
      "source": [],
      "metadata": {
        "id": "eiwHRAU1D4Gj"
      },
      "execution_count": 11,
      "outputs": []
    },
    {
      "cell_type": "markdown",
      "source": [
        "#### Problem 3: Bayesian updating\n",
        "\n",
        "In the section above, we considered repeating identical tests. However, in practice, the second test will be significantly different than the first - more expensive, and often with lower false-positive and false-negative probabilities. Make some reasonable assumptions about two different tests for the same disease, and clearly justify them. Then calculate the posterior probability that the person is really infected as a function of the incidence, after they have taken both tests. For bonus points, illustrate how this changes as the properties of the tests change. Discuss your results and their implications."
      ],
      "metadata": {
        "id": "CkGG3BnfD4Z9"
      }
    },
    {
      "cell_type": "code",
      "source": [],
      "metadata": {
        "id": "cnqBnArUD5vg"
      },
      "execution_count": 11,
      "outputs": []
    },
    {
      "cell_type": "markdown",
      "source": [
        "#### Problem 4: Prior sensitivity testing\n",
        "\n",
        "We finished by introducing prior sensitivity testing. In the cell below, consider Bayesian linear regression and explore how changing the prior affects the outcome of fitting a straight line to a simple dataset."
      ],
      "metadata": {
        "id": "bpqB0B_KD6UZ"
      }
    },
    {
      "cell_type": "code",
      "source": [],
      "metadata": {
        "id": "aVL4BljrD8DI"
      },
      "execution_count": 11,
      "outputs": []
    },
    {
      "cell_type": "markdown",
      "source": [
        "### Footnotes\n",
        "\n",
        "<a name=\"cite_note-1\"></a>1. [^](#cite_ref-1) This is an oversimplication, as you can see from the code - it depends somewhat on the incidence, because only uninfected people can produce false positives. However, in the limit of low incidence, this is approximately true."
      ],
      "metadata": {
        "id": "LXOPWWXp0VgF"
      }
    }
  ]
}